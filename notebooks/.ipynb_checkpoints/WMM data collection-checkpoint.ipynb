{
 "cells": [
  {
   "cell_type": "markdown",
   "metadata": {},
   "source": [
    "# World Marathon Majors - Winners\n",
    "\n",
    "The world marathon majors consist of six major city marathons (https://en.wikipedia.org/wiki/World_Marathon_Majors):\n",
    "\n",
    "List of all historic winners can be found via their individual wikipedia pages:\n",
    "\n",
    "    - Tokyo (https://en.wikipedia.org/wiki/Tokyo_Marathon)\n",
    "    - Boston (https://en.wikipedia.org/wiki/List_of_winners_of_the_Boston_Marathon)\n",
    "    - London (https://en.wikipedia.org/wiki/List_of_winners_of_the_London_Marathon)\n",
    "    - Berlin (https://en.wikipedia.org/wiki/Berlin_Marathon)\n",
    "    - Chicago (https://en.wikipedia.org/wiki/List_of_winners_of_the_Chicago_Marathon)\n",
    "    - New York (https://en.wikipedia.org/wiki/List_of_winners_of_the_New_York_City_Marathon)\n",
    "    \n",
    "Using the Wikipedia API, lets see if we can collect and compile a list of winners for each race on both the male and female runners and wheelchair athletes races and process to an easy to read form."
   ]
  },
  {
   "cell_type": "code",
   "execution_count": 163,
   "metadata": {},
   "outputs": [],
   "source": [
    "import pandas as pd\n",
    "import wikipedia as wp\n",
    "import re"
   ]
  },
  {
   "cell_type": "markdown",
   "metadata": {},
   "source": [
    "### Find each page and make sure each exists"
   ]
  },
  {
   "cell_type": "code",
   "execution_count": 35,
   "metadata": {},
   "outputs": [
    {
     "name": "stdout",
     "output_type": "stream",
     "text": [
      "Tokyo Marathon\n",
      "List of winners of the Boston Marathon\n",
      "List of winners of the London Marathon\n",
      "Berlin Marathon\n",
      "List of winners of the Chicago Marathon\n",
      "List of winners of the New York City Marathon\n"
     ]
    }
   ],
   "source": [
    "Tokyo_page=wp.page('Tokyo Marathon')\n",
    "Boston_page=wp.page('List of winners of the Boston Marathon')\n",
    "London_page=wp.page('List of winners of the London Marathon')\n",
    "Berlin_page=wp.page('Berlin Marathon')\n",
    "Chicago_page=wp.page('List of winners of the Chicago Marathon')\n",
    "New_York_page=wp.page('List of winners of the New York City Marathon')\n",
    "\n",
    "pages=[Tokyo_page,Boston_page,London_page,Berlin_page,Chicago_page,New_York_page]\n",
    "\n",
    "for page in pages:\n",
    "    print(page.title)"
   ]
  },
  {
   "cell_type": "markdown",
   "metadata": {},
   "source": [
    "For each page, we'll use the pandas read_html() method to get all relevant tables.\n",
    "\n",
    "We first need to identify which tables we need by manually inspecting the wikipedia pages for each race."
   ]
  },
  {
   "cell_type": "markdown",
   "metadata": {},
   "source": [
    "## The London Marathon\n",
    "\n",
    "https://en.wikipedia.org/wiki/List_of_winners_of_the_London_Marathon"
   ]
  },
  {
   "cell_type": "code",
   "execution_count": 36,
   "metadata": {},
   "outputs": [
    {
     "data": {
      "text/plain": [
       "\"The London Marathon, one of the six World Marathon Majors, has been contested by men and women annually since 29 March 1981. Set over a largely flat course around the River Thames, the marathon is 26.2 miles (42.2 km) in length and generally regarded as a competitive and unpredictable event, and conducive to fast times.The inaugural marathon had 7,741 entrants, 6,255 of whom completed the race. The first Men's Elite Race was tied between American Dick Beardsley and Norwegian Inge Simonsen, who crossed the finish line holding hands in 2 hours, 11 minutes, 48 seconds. The first Women's Elite Race was won by Briton Joyce Smith in 2:29:57. In 1983, the first wheelchair races took place. Organized by the British Sports Association for the Disabled (BASD), 19 people competed and 17 finished. Gordon Perry of the United Kingdom won the Men's Wheelchair Race, coming in at 3:20:07, and Denise Smith, also of the UK, won the Women's Wheelchair Race in 4:29:03.Twenty athletes representing the United Kingdom have won the London Marathon a total of forty times. The most recent win by a British athlete was in the 2012 London Marathon, by David Weir in the Men's Wheelchair Race. It was his sixth win in London. Kenya has the second largest number of winning athletes. Seven Kenyan men and seven Kenyan women have been victorious a total of eighteen times, all in the able-bodied category. Eleven men, including those from the wheelchair races, have won the marathon more than once, Weir's six wins being the record. Sixteen women have been winners more than once; Tanni Grey-Thompson won the women's wheelchair race six times between 1992 and 2002.\\nCourse records for the London Marathon have been set ten times in the men's race, seven times in the women's race, fifteen times in the men's wheelchair race, and thirteen times in the women's wheelchair race. World records for marathon running have been set six times considering marks for men and women in mixed sex and women-only races. Khalid Khannouchi, representing the United States, set the men's world record in 2:05:38 in 2002. The following year, British runner Paula Radcliffe set the women's world record in 2:15:25, which also stands as the current course record in the Women's Elite Race. In 2017 Kenyan Mary Keitany ran a women-only race world record of 2:17:01.  Eliud Kipchoge of Kenya set the course record at 2:03:05 in 2016 in the Men's Elite Race. Kurt Fearnley set the Men's Wheelchair Race course record at 1:28:57 in 2009. The course record for the Women's Wheelchair Race was set by Swiss athlete Manuela Schar in 2017, with 1:39:57.\""
      ]
     },
     "execution_count": 36,
     "metadata": {},
     "output_type": "execute_result"
    }
   ],
   "source": [
    "London_page.summary"
   ]
  },
  {
   "cell_type": "markdown",
   "metadata": {},
   "source": [
    "By manually inspecting this page, we see that the results we're looking for are the first to fourth tables on the page."
   ]
  },
  {
   "cell_type": "code",
   "execution_count": 148,
   "metadata": {},
   "outputs": [],
   "source": [
    "html = wp.page(\"List of winners of the London Marathon\").html()\n",
    "male_elite_London = pd.read_html(html)[0]\n",
    "female_elite_London = pd.read_html(html)[1]\n",
    "male_wheel_London = pd.read_html(html)[2]\n",
    "female_wheel_London = pd.read_html(html)[3]"
   ]
  },
  {
   "cell_type": "code",
   "execution_count": 149,
   "metadata": {},
   "outputs": [
    {
     "data": {
      "text/html": [
       "<div>\n",
       "<style>\n",
       "    .dataframe thead tr:only-child th {\n",
       "        text-align: right;\n",
       "    }\n",
       "\n",
       "    .dataframe thead th {\n",
       "        text-align: left;\n",
       "    }\n",
       "\n",
       "    .dataframe tbody tr th {\n",
       "        vertical-align: top;\n",
       "    }\n",
       "</style>\n",
       "<table border=\"1\" class=\"dataframe\">\n",
       "  <thead>\n",
       "    <tr style=\"text-align: right;\">\n",
       "      <th></th>\n",
       "      <th>0</th>\n",
       "      <th>1</th>\n",
       "      <th>2</th>\n",
       "      <th>3</th>\n",
       "      <th>4</th>\n",
       "    </tr>\n",
       "  </thead>\n",
       "  <tbody>\n",
       "    <tr>\n",
       "      <th>0</th>\n",
       "      <td>Year</td>\n",
       "      <td>Athlete</td>\n",
       "      <td>Nationality</td>\n",
       "      <td>Time(h:m:s)</td>\n",
       "      <td>Notes</td>\n",
       "    </tr>\n",
       "    <tr>\n",
       "      <th>1</th>\n",
       "      <td>1981</td>\n",
       "      <td>Dick Beardsley (Tie)</td>\n",
       "      <td>United States</td>\n",
       "      <td>2:11:48</td>\n",
       "      <td>Course record</td>\n",
       "    </tr>\n",
       "    <tr>\n",
       "      <th>2</th>\n",
       "      <td>Inge Simonsen (Tie)</td>\n",
       "      <td>Norway</td>\n",
       "      <td>NaN</td>\n",
       "      <td>NaN</td>\n",
       "      <td>NaN</td>\n",
       "    </tr>\n",
       "    <tr>\n",
       "      <th>3</th>\n",
       "      <td>1982</td>\n",
       "      <td>Hugh Jones</td>\n",
       "      <td>United Kingdom</td>\n",
       "      <td>2:09:24</td>\n",
       "      <td>Course record</td>\n",
       "    </tr>\n",
       "    <tr>\n",
       "      <th>4</th>\n",
       "      <td>1983</td>\n",
       "      <td>Mike Gratton</td>\n",
       "      <td>United Kingdom</td>\n",
       "      <td>2:09:43</td>\n",
       "      <td>NaN</td>\n",
       "    </tr>\n",
       "  </tbody>\n",
       "</table>\n",
       "</div>"
      ],
      "text/plain": [
       "                     0                     1               2            3  \\\n",
       "0                 Year               Athlete     Nationality  Time(h:m:s)   \n",
       "1                 1981  Dick Beardsley (Tie)   United States      2:11:48   \n",
       "2  Inge Simonsen (Tie)                Norway             NaN          NaN   \n",
       "3                 1982            Hugh Jones  United Kingdom      2:09:24   \n",
       "4                 1983          Mike Gratton  United Kingdom      2:09:43   \n",
       "\n",
       "               4  \n",
       "0          Notes  \n",
       "1  Course record  \n",
       "2            NaN  \n",
       "3  Course record  \n",
       "4            NaN  "
      ]
     },
     "execution_count": 149,
     "metadata": {},
     "output_type": "execute_result"
    }
   ],
   "source": [
    "male_elite_London.head()"
   ]
  },
  {
   "cell_type": "markdown",
   "metadata": {},
   "source": [
    "### Cleaning up\n",
    "\n",
    "London is famous for having a tie in the men's race on its first edition in 1981. This is reflected in the first table taken from the wiki page so let's clean that up first. It's only one instance, so let's clean this manually."
   ]
  },
  {
   "cell_type": "code",
   "execution_count": 150,
   "metadata": {},
   "outputs": [
    {
     "data": {
      "text/html": [
       "<div>\n",
       "<style>\n",
       "    .dataframe thead tr:only-child th {\n",
       "        text-align: right;\n",
       "    }\n",
       "\n",
       "    .dataframe thead th {\n",
       "        text-align: left;\n",
       "    }\n",
       "\n",
       "    .dataframe tbody tr th {\n",
       "        vertical-align: top;\n",
       "    }\n",
       "</style>\n",
       "<table border=\"1\" class=\"dataframe\">\n",
       "  <thead>\n",
       "    <tr style=\"text-align: right;\">\n",
       "      <th></th>\n",
       "      <th>0</th>\n",
       "      <th>1</th>\n",
       "      <th>2</th>\n",
       "      <th>3</th>\n",
       "      <th>4</th>\n",
       "    </tr>\n",
       "  </thead>\n",
       "  <tbody>\n",
       "    <tr>\n",
       "      <th>0</th>\n",
       "      <td>Year</td>\n",
       "      <td>Athlete</td>\n",
       "      <td>Nationality</td>\n",
       "      <td>Time(h:m:s)</td>\n",
       "      <td>Notes</td>\n",
       "    </tr>\n",
       "    <tr>\n",
       "      <th>1</th>\n",
       "      <td>1981</td>\n",
       "      <td>Dick Beardsley and Inge Simonson (Tie)</td>\n",
       "      <td>United States and Norway</td>\n",
       "      <td>2:11:48</td>\n",
       "      <td>Course record</td>\n",
       "    </tr>\n",
       "    <tr>\n",
       "      <th>2</th>\n",
       "      <td>1982</td>\n",
       "      <td>Hugh Jones</td>\n",
       "      <td>United Kingdom</td>\n",
       "      <td>2:09:24</td>\n",
       "      <td>Course record</td>\n",
       "    </tr>\n",
       "    <tr>\n",
       "      <th>3</th>\n",
       "      <td>1983</td>\n",
       "      <td>Mike Gratton</td>\n",
       "      <td>United Kingdom</td>\n",
       "      <td>2:09:43</td>\n",
       "      <td>NaN</td>\n",
       "    </tr>\n",
       "    <tr>\n",
       "      <th>4</th>\n",
       "      <td>1984</td>\n",
       "      <td>Charlie Spedding</td>\n",
       "      <td>United Kingdom</td>\n",
       "      <td>2:09:57</td>\n",
       "      <td>NaN</td>\n",
       "    </tr>\n",
       "  </tbody>\n",
       "</table>\n",
       "</div>"
      ],
      "text/plain": [
       "      0                                       1                         2  \\\n",
       "0  Year                                 Athlete               Nationality   \n",
       "1  1981  Dick Beardsley and Inge Simonson (Tie)  United States and Norway   \n",
       "2  1982                              Hugh Jones            United Kingdom   \n",
       "3  1983                            Mike Gratton            United Kingdom   \n",
       "4  1984                        Charlie Spedding            United Kingdom   \n",
       "\n",
       "             3              4  \n",
       "0  Time(h:m:s)          Notes  \n",
       "1      2:11:48  Course record  \n",
       "2      2:09:24  Course record  \n",
       "3      2:09:43            NaN  \n",
       "4      2:09:57            NaN  "
      ]
     },
     "execution_count": 150,
     "metadata": {},
     "output_type": "execute_result"
    }
   ],
   "source": [
    "male_elite_London.iloc[1][1]='Dick Beardsley and Inge Simonson (Tie)'\n",
    "male_elite_London.iloc[1][2]='United States and Norway'\n",
    "male_elite_London=male_elite_London.reindex(male_elite_London.index.drop(2)).reset_index(drop=True)\n",
    "male_elite_London.head()"
   ]
  },
  {
   "cell_type": "markdown",
   "metadata": {},
   "source": [
    "Now that initial cleaning is done, let's standardise these tables somewhat making the year the index and change the column headings out of the first row. \n",
    "\n",
    "Let's also convert that time to datetime format."
   ]
  },
  {
   "cell_type": "code",
   "execution_count": 152,
   "metadata": {},
   "outputs": [],
   "source": [
    "def standardise_table(df):\n",
    "    df.columns = df.iloc[0]\n",
    "    df=df.reindex(df.index.drop(0))\n",
    "    df=df.set_index('Year')\n",
    "    df['Time(h:m:s)']=pd.to_datetime(df['Time(h:m:s)'],format='%H:%M:%S').dt.time\n",
    "    return(df)"
   ]
  },
  {
   "cell_type": "code",
   "execution_count": 153,
   "metadata": {},
   "outputs": [
    {
     "data": {
      "text/html": [
       "<div>\n",
       "<style>\n",
       "    .dataframe thead tr:only-child th {\n",
       "        text-align: right;\n",
       "    }\n",
       "\n",
       "    .dataframe thead th {\n",
       "        text-align: left;\n",
       "    }\n",
       "\n",
       "    .dataframe tbody tr th {\n",
       "        vertical-align: top;\n",
       "    }\n",
       "</style>\n",
       "<table border=\"1\" class=\"dataframe\">\n",
       "  <thead>\n",
       "    <tr style=\"text-align: right;\">\n",
       "      <th></th>\n",
       "      <th>Athlete</th>\n",
       "      <th>Nationality</th>\n",
       "      <th>Time(h:m:s)</th>\n",
       "      <th>Notes</th>\n",
       "    </tr>\n",
       "    <tr>\n",
       "      <th>Year</th>\n",
       "      <th></th>\n",
       "      <th></th>\n",
       "      <th></th>\n",
       "      <th></th>\n",
       "    </tr>\n",
       "  </thead>\n",
       "  <tbody>\n",
       "    <tr>\n",
       "      <th>1981</th>\n",
       "      <td>Dick Beardsley and Inge Simonson (Tie)</td>\n",
       "      <td>United States and Norway</td>\n",
       "      <td>02:11:48</td>\n",
       "      <td>Course record</td>\n",
       "    </tr>\n",
       "    <tr>\n",
       "      <th>1982</th>\n",
       "      <td>Hugh Jones</td>\n",
       "      <td>United Kingdom</td>\n",
       "      <td>02:09:24</td>\n",
       "      <td>Course record</td>\n",
       "    </tr>\n",
       "    <tr>\n",
       "      <th>1983</th>\n",
       "      <td>Mike Gratton</td>\n",
       "      <td>United Kingdom</td>\n",
       "      <td>02:09:43</td>\n",
       "      <td>NaN</td>\n",
       "    </tr>\n",
       "    <tr>\n",
       "      <th>1984</th>\n",
       "      <td>Charlie Spedding</td>\n",
       "      <td>United Kingdom</td>\n",
       "      <td>02:09:57</td>\n",
       "      <td>NaN</td>\n",
       "    </tr>\n",
       "    <tr>\n",
       "      <th>1985</th>\n",
       "      <td>Steve Jones</td>\n",
       "      <td>United Kingdom</td>\n",
       "      <td>02:08:16</td>\n",
       "      <td>Course record</td>\n",
       "    </tr>\n",
       "  </tbody>\n",
       "</table>\n",
       "</div>"
      ],
      "text/plain": [
       "0                                    Athlete               Nationality  \\\n",
       "Year                                                                     \n",
       "1981  Dick Beardsley and Inge Simonson (Tie)  United States and Norway   \n",
       "1982                              Hugh Jones            United Kingdom   \n",
       "1983                            Mike Gratton            United Kingdom   \n",
       "1984                        Charlie Spedding            United Kingdom   \n",
       "1985                             Steve Jones            United Kingdom   \n",
       "\n",
       "0    Time(h:m:s)          Notes  \n",
       "Year                             \n",
       "1981    02:11:48  Course record  \n",
       "1982    02:09:24  Course record  \n",
       "1983    02:09:43            NaN  \n",
       "1984    02:09:57            NaN  \n",
       "1985    02:08:16  Course record  "
      ]
     },
     "execution_count": 153,
     "metadata": {},
     "output_type": "execute_result"
    }
   ],
   "source": [
    "male_elite_London=standardise_table(male_elite_London)\n",
    "female_elite_London=standardise_table(female_elite_London)\n",
    "male_wheel_London=standardise_table(male_wheel_London)\n",
    "female_wheel_London=standardise_table(female_wheel_London)\n",
    "\n",
    "male_elite_London.head()"
   ]
  },
  {
   "cell_type": "markdown",
   "metadata": {},
   "source": [
    "## Boston Marathon\n",
    "\n",
    "https://en.wikipedia.org/wiki/List_of_winners_of_the_Boston_Marathon"
   ]
  },
  {
   "cell_type": "code",
   "execution_count": 154,
   "metadata": {},
   "outputs": [
    {
     "data": {
      "text/plain": [
       "'The Boston Marathon is an annual marathon held in the Greater Boston area in Massachusetts. The event is held on Patriots Day, the third Monday of April. The Boston Marathon has been held annually since 1897 and is the oldest annual marathon in the world.'"
      ]
     },
     "execution_count": 154,
     "metadata": {},
     "output_type": "execute_result"
    }
   ],
   "source": [
    "Boston_page.summary"
   ]
  },
  {
   "cell_type": "code",
   "execution_count": 308,
   "metadata": {
    "collapsed": true
   },
   "outputs": [],
   "source": [
    "html = wp.page(\"List of winners of the Boston Marathon\").html()\n",
    "male_elite_Boston = pd.read_html(html)[1]\n",
    "female_elite_Boston = pd.read_html(html)[2]\n",
    "male_wheel_Boston = pd.read_html(html)[3]\n",
    "female_wheel_Boston = pd.read_html(html)[4]"
   ]
  },
  {
   "cell_type": "code",
   "execution_count": 309,
   "metadata": {},
   "outputs": [
    {
     "data": {
      "text/html": [
       "<div>\n",
       "<style>\n",
       "    .dataframe thead tr:only-child th {\n",
       "        text-align: right;\n",
       "    }\n",
       "\n",
       "    .dataframe thead th {\n",
       "        text-align: left;\n",
       "    }\n",
       "\n",
       "    .dataframe tbody tr th {\n",
       "        vertical-align: top;\n",
       "    }\n",
       "</style>\n",
       "<table border=\"1\" class=\"dataframe\">\n",
       "  <thead>\n",
       "    <tr style=\"text-align: right;\">\n",
       "      <th></th>\n",
       "      <th>0</th>\n",
       "      <th>1</th>\n",
       "      <th>2</th>\n",
       "      <th>3</th>\n",
       "      <th>4</th>\n",
       "    </tr>\n",
       "  </thead>\n",
       "  <tbody>\n",
       "    <tr>\n",
       "      <th>0</th>\n",
       "      <td>Year</td>\n",
       "      <td>Athlete</td>\n",
       "      <td>Country/State</td>\n",
       "      <td>Time</td>\n",
       "      <td>Notes</td>\n",
       "    </tr>\n",
       "    <tr>\n",
       "      <th>1</th>\n",
       "      <td>1975</td>\n",
       "      <td>Hall, RobertRobert Hall</td>\n",
       "      <td>United States United States (MA)</td>\n",
       "      <td>2:58:00</td>\n",
       "      <td>NaN</td>\n",
       "    </tr>\n",
       "    <tr>\n",
       "      <th>2</th>\n",
       "      <td>1976</td>\n",
       "      <td>zzzNone</td>\n",
       "      <td>NaN</td>\n",
       "      <td>NaN</td>\n",
       "      <td>NaN</td>\n",
       "    </tr>\n",
       "    <tr>\n",
       "      <th>3</th>\n",
       "      <td>1977</td>\n",
       "      <td>Hall, RobertRobert Hall</td>\n",
       "      <td>United States United States (MA)</td>\n",
       "      <td>2:40:10</td>\n",
       "      <td>2nd victory</td>\n",
       "    </tr>\n",
       "    <tr>\n",
       "      <th>4</th>\n",
       "      <td>1978</td>\n",
       "      <td>Murray, GeorgeGeorge Murray</td>\n",
       "      <td>United States United States (FL)</td>\n",
       "      <td>2:26:57</td>\n",
       "      <td>NaN</td>\n",
       "    </tr>\n",
       "  </tbody>\n",
       "</table>\n",
       "</div>"
      ],
      "text/plain": [
       "      0                            1                                 2  \\\n",
       "0  Year                      Athlete                     Country/State   \n",
       "1  1975      Hall, RobertRobert Hall  United States United States (MA)   \n",
       "2  1976                      zzzNone                               NaN   \n",
       "3  1977      Hall, RobertRobert Hall  United States United States (MA)   \n",
       "4  1978  Murray, GeorgeGeorge Murray  United States United States (FL)   \n",
       "\n",
       "         3            4  \n",
       "0     Time        Notes  \n",
       "1  2:58:00          NaN  \n",
       "2      NaN          NaN  \n",
       "3  2:40:10  2nd victory  \n",
       "4  2:26:57          NaN  "
      ]
     },
     "execution_count": 309,
     "metadata": {},
     "output_type": "execute_result"
    }
   ],
   "source": [
    "male_wheel_Boston.head()"
   ]
  },
  {
   "cell_type": "markdown",
   "metadata": {},
   "source": [
    "There was no mens wheelchair race in 1976 so we'll remove that from this table."
   ]
  },
  {
   "cell_type": "code",
   "execution_count": 310,
   "metadata": {},
   "outputs": [
    {
     "data": {
      "text/html": [
       "<div>\n",
       "<style>\n",
       "    .dataframe thead tr:only-child th {\n",
       "        text-align: right;\n",
       "    }\n",
       "\n",
       "    .dataframe thead th {\n",
       "        text-align: left;\n",
       "    }\n",
       "\n",
       "    .dataframe tbody tr th {\n",
       "        vertical-align: top;\n",
       "    }\n",
       "</style>\n",
       "<table border=\"1\" class=\"dataframe\">\n",
       "  <thead>\n",
       "    <tr style=\"text-align: right;\">\n",
       "      <th></th>\n",
       "      <th>0</th>\n",
       "      <th>1</th>\n",
       "      <th>2</th>\n",
       "      <th>3</th>\n",
       "      <th>4</th>\n",
       "    </tr>\n",
       "  </thead>\n",
       "  <tbody>\n",
       "    <tr>\n",
       "      <th>0</th>\n",
       "      <td>Year</td>\n",
       "      <td>Athlete</td>\n",
       "      <td>Country/State</td>\n",
       "      <td>Time</td>\n",
       "      <td>Notes</td>\n",
       "    </tr>\n",
       "    <tr>\n",
       "      <th>1</th>\n",
       "      <td>1975</td>\n",
       "      <td>Hall, RobertRobert Hall</td>\n",
       "      <td>United States United States (MA)</td>\n",
       "      <td>2:58:00</td>\n",
       "      <td>NaN</td>\n",
       "    </tr>\n",
       "    <tr>\n",
       "      <th>2</th>\n",
       "      <td>1977</td>\n",
       "      <td>Hall, RobertRobert Hall</td>\n",
       "      <td>United States United States (MA)</td>\n",
       "      <td>2:40:10</td>\n",
       "      <td>2nd victory</td>\n",
       "    </tr>\n",
       "    <tr>\n",
       "      <th>3</th>\n",
       "      <td>1978</td>\n",
       "      <td>Murray, GeorgeGeorge Murray</td>\n",
       "      <td>United States United States (FL)</td>\n",
       "      <td>2:26:57</td>\n",
       "      <td>NaN</td>\n",
       "    </tr>\n",
       "    <tr>\n",
       "      <th>4</th>\n",
       "      <td>1979</td>\n",
       "      <td>Archer, KenKen Archer</td>\n",
       "      <td>United States United States (OH)</td>\n",
       "      <td>2:38:59</td>\n",
       "      <td>NaN</td>\n",
       "    </tr>\n",
       "  </tbody>\n",
       "</table>\n",
       "</div>"
      ],
      "text/plain": [
       "      0                            1                                 2  \\\n",
       "0  Year                      Athlete                     Country/State   \n",
       "1  1975      Hall, RobertRobert Hall  United States United States (MA)   \n",
       "2  1977      Hall, RobertRobert Hall  United States United States (MA)   \n",
       "3  1978  Murray, GeorgeGeorge Murray  United States United States (FL)   \n",
       "4  1979        Archer, KenKen Archer  United States United States (OH)   \n",
       "\n",
       "         3            4  \n",
       "0     Time        Notes  \n",
       "1  2:58:00          NaN  \n",
       "2  2:40:10  2nd victory  \n",
       "3  2:26:57          NaN  \n",
       "4  2:38:59          NaN  "
      ]
     },
     "execution_count": 310,
     "metadata": {},
     "output_type": "execute_result"
    }
   ],
   "source": [
    "male_wheel_Boston=male_wheel_Boston.reindex(male_wheel_Boston.index.drop(2)).reset_index(drop=True)\n",
    "male_wheel_Boston.head()"
   ]
  },
  {
   "cell_type": "markdown",
   "metadata": {},
   "source": [
    "For both the mens and women's wheelchair race, there are also time containing citations. We'll need to remove these as well so we can convert the time to datetime format. We can do that with a simple regex."
   ]
  },
  {
   "cell_type": "code",
   "execution_count": 311,
   "metadata": {},
   "outputs": [
    {
     "data": {
      "text/html": [
       "<div>\n",
       "<style>\n",
       "    .dataframe thead tr:only-child th {\n",
       "        text-align: right;\n",
       "    }\n",
       "\n",
       "    .dataframe thead th {\n",
       "        text-align: left;\n",
       "    }\n",
       "\n",
       "    .dataframe tbody tr th {\n",
       "        vertical-align: top;\n",
       "    }\n",
       "</style>\n",
       "<table border=\"1\" class=\"dataframe\">\n",
       "  <thead>\n",
       "    <tr style=\"text-align: right;\">\n",
       "      <th></th>\n",
       "      <th>0</th>\n",
       "      <th>1</th>\n",
       "      <th>2</th>\n",
       "      <th>3</th>\n",
       "      <th>4</th>\n",
       "    </tr>\n",
       "  </thead>\n",
       "  <tbody>\n",
       "    <tr>\n",
       "      <th>39</th>\n",
       "      <td>2014</td>\n",
       "      <td>Ernst van Dyk</td>\n",
       "      <td>South Africa</td>\n",
       "      <td>1:20:36</td>\n",
       "      <td>10th victory</td>\n",
       "    </tr>\n",
       "    <tr>\n",
       "      <th>40</th>\n",
       "      <td>2015</td>\n",
       "      <td>Marcel Hug</td>\n",
       "      <td>Switzerland</td>\n",
       "      <td>1:29:53</td>\n",
       "      <td>NaN</td>\n",
       "    </tr>\n",
       "    <tr>\n",
       "      <th>41</th>\n",
       "      <td>2016</td>\n",
       "      <td>Marcel Hug</td>\n",
       "      <td>Switzerland</td>\n",
       "      <td>1:24:01</td>\n",
       "      <td>2nd victory</td>\n",
       "    </tr>\n",
       "    <tr>\n",
       "      <th>42</th>\n",
       "      <td>2017</td>\n",
       "      <td>Marcel Hug</td>\n",
       "      <td>Switzerland</td>\n",
       "      <td>1:18:03</td>\n",
       "      <td>3rd victory</td>\n",
       "    </tr>\n",
       "    <tr>\n",
       "      <th>43</th>\n",
       "      <td>2018</td>\n",
       "      <td>Marcel Hug</td>\n",
       "      <td>Switzerland</td>\n",
       "      <td>1:46:26[6]</td>\n",
       "      <td>4th victory</td>\n",
       "    </tr>\n",
       "  </tbody>\n",
       "</table>\n",
       "</div>"
      ],
      "text/plain": [
       "       0              1             2           3             4\n",
       "39  2014  Ernst van Dyk  South Africa     1:20:36  10th victory\n",
       "40  2015     Marcel Hug   Switzerland     1:29:53           NaN\n",
       "41  2016     Marcel Hug   Switzerland     1:24:01   2nd victory\n",
       "42  2017     Marcel Hug   Switzerland     1:18:03   3rd victory\n",
       "43  2018     Marcel Hug   Switzerland  1:46:26[6]   4th victory"
      ]
     },
     "execution_count": 311,
     "metadata": {},
     "output_type": "execute_result"
    }
   ],
   "source": [
    "male_wheel_Boston.tail()"
   ]
  },
  {
   "cell_type": "code",
   "execution_count": 312,
   "metadata": {},
   "outputs": [],
   "source": [
    "def remove_citation(time):\n",
    "    return(re.sub('\\[.*?\\]','',str(time)))"
   ]
  },
  {
   "cell_type": "code",
   "execution_count": 313,
   "metadata": {},
   "outputs": [
    {
     "data": {
      "text/html": [
       "<div>\n",
       "<style>\n",
       "    .dataframe thead tr:only-child th {\n",
       "        text-align: right;\n",
       "    }\n",
       "\n",
       "    .dataframe thead th {\n",
       "        text-align: left;\n",
       "    }\n",
       "\n",
       "    .dataframe tbody tr th {\n",
       "        vertical-align: top;\n",
       "    }\n",
       "</style>\n",
       "<table border=\"1\" class=\"dataframe\">\n",
       "  <thead>\n",
       "    <tr style=\"text-align: right;\">\n",
       "      <th></th>\n",
       "      <th>0</th>\n",
       "      <th>1</th>\n",
       "      <th>2</th>\n",
       "      <th>3</th>\n",
       "      <th>4</th>\n",
       "    </tr>\n",
       "  </thead>\n",
       "  <tbody>\n",
       "    <tr>\n",
       "      <th>39</th>\n",
       "      <td>2014</td>\n",
       "      <td>Ernst van Dyk</td>\n",
       "      <td>South Africa</td>\n",
       "      <td>1:20:36</td>\n",
       "      <td>10th victory</td>\n",
       "    </tr>\n",
       "    <tr>\n",
       "      <th>40</th>\n",
       "      <td>2015</td>\n",
       "      <td>Marcel Hug</td>\n",
       "      <td>Switzerland</td>\n",
       "      <td>1:29:53</td>\n",
       "      <td>NaN</td>\n",
       "    </tr>\n",
       "    <tr>\n",
       "      <th>41</th>\n",
       "      <td>2016</td>\n",
       "      <td>Marcel Hug</td>\n",
       "      <td>Switzerland</td>\n",
       "      <td>1:24:01</td>\n",
       "      <td>2nd victory</td>\n",
       "    </tr>\n",
       "    <tr>\n",
       "      <th>42</th>\n",
       "      <td>2017</td>\n",
       "      <td>Marcel Hug</td>\n",
       "      <td>Switzerland</td>\n",
       "      <td>1:18:03</td>\n",
       "      <td>3rd victory</td>\n",
       "    </tr>\n",
       "    <tr>\n",
       "      <th>43</th>\n",
       "      <td>2018</td>\n",
       "      <td>Marcel Hug</td>\n",
       "      <td>Switzerland</td>\n",
       "      <td>1:46:26</td>\n",
       "      <td>4th victory</td>\n",
       "    </tr>\n",
       "  </tbody>\n",
       "</table>\n",
       "</div>"
      ],
      "text/plain": [
       "       0              1             2        3             4\n",
       "39  2014  Ernst van Dyk  South Africa  1:20:36  10th victory\n",
       "40  2015     Marcel Hug   Switzerland  1:29:53           NaN\n",
       "41  2016     Marcel Hug   Switzerland  1:24:01   2nd victory\n",
       "42  2017     Marcel Hug   Switzerland  1:18:03   3rd victory\n",
       "43  2018     Marcel Hug   Switzerland  1:46:26   4th victory"
      ]
     },
     "execution_count": 313,
     "metadata": {},
     "output_type": "execute_result"
    }
   ],
   "source": [
    "male_wheel_Boston[3]=male_wheel_Boston[3].apply(remove_citation)\n",
    "female_wheel_Boston[3]=female_wheel_Boston[3].apply(remove_citation)\n",
    "male_wheel_Boston.tail()"
   ]
  },
  {
   "cell_type": "markdown",
   "metadata": {},
   "source": [
    "### Standardise tables\n",
    "\n",
    "As with the London Marathon tables, we can now make the year the index and change the column headings out of the first row. We'll also convert the time to datetime format."
   ]
  },
  {
   "cell_type": "code",
   "execution_count": 314,
   "metadata": {
    "collapsed": true
   },
   "outputs": [],
   "source": [
    "def standardise_table(df):\n",
    "    df.columns = df.iloc[0]\n",
    "    df=df.reindex(df.index.drop(0))\n",
    "    df=df.set_index('Year')\n",
    "    df['Time']=pd.to_datetime(df['Time'],format='%H:%M:%S',errors='coerce').dt.time\n",
    "    return(df)"
   ]
  },
  {
   "cell_type": "code",
   "execution_count": 315,
   "metadata": {},
   "outputs": [
    {
     "data": {
      "text/html": [
       "<div>\n",
       "<style>\n",
       "    .dataframe thead tr:only-child th {\n",
       "        text-align: right;\n",
       "    }\n",
       "\n",
       "    .dataframe thead th {\n",
       "        text-align: left;\n",
       "    }\n",
       "\n",
       "    .dataframe tbody tr th {\n",
       "        vertical-align: top;\n",
       "    }\n",
       "</style>\n",
       "<table border=\"1\" class=\"dataframe\">\n",
       "  <thead>\n",
       "    <tr style=\"text-align: right;\">\n",
       "      <th></th>\n",
       "      <th>Athlete</th>\n",
       "      <th>Country/State or Province</th>\n",
       "      <th>Time</th>\n",
       "      <th>Notes</th>\n",
       "    </tr>\n",
       "    <tr>\n",
       "      <th>Year</th>\n",
       "      <th></th>\n",
       "      <th></th>\n",
       "      <th></th>\n",
       "      <th></th>\n",
       "    </tr>\n",
       "  </thead>\n",
       "  <tbody>\n",
       "    <tr>\n",
       "      <th>1897</th>\n",
       "      <td>McDermott, John J.John J. McDermott</td>\n",
       "      <td>United States United States(NY)</td>\n",
       "      <td>02:55:10</td>\n",
       "      <td>NaN</td>\n",
       "    </tr>\n",
       "    <tr>\n",
       "      <th>1898</th>\n",
       "      <td>MacDonald, Ronald J.Ronald J. MacDonald</td>\n",
       "      <td>Canada Canada (NS)</td>\n",
       "      <td>02:42:00</td>\n",
       "      <td>NaN</td>\n",
       "    </tr>\n",
       "    <tr>\n",
       "      <th>1899</th>\n",
       "      <td>Brignolia, LawrenceLawrence Brignolia</td>\n",
       "      <td>United States United States (MA)</td>\n",
       "      <td>02:54:38</td>\n",
       "      <td>NaN</td>\n",
       "    </tr>\n",
       "    <tr>\n",
       "      <th>1900</th>\n",
       "      <td>Caffery, JohnJohn \"Jack\" Caffery</td>\n",
       "      <td>Canada Canada (ON)</td>\n",
       "      <td>02:39:44</td>\n",
       "      <td>NaN</td>\n",
       "    </tr>\n",
       "    <tr>\n",
       "      <th>1901</th>\n",
       "      <td>Caffery, JohnJohn \"Jack\" Caffery</td>\n",
       "      <td>Canada Canada (ON)</td>\n",
       "      <td>02:29:23</td>\n",
       "      <td>2nd victory</td>\n",
       "    </tr>\n",
       "  </tbody>\n",
       "</table>\n",
       "</div>"
      ],
      "text/plain": [
       "0                                     Athlete  \\\n",
       "Year                                            \n",
       "1897      McDermott, John J.John J. McDermott   \n",
       "1898  MacDonald, Ronald J.Ronald J. MacDonald   \n",
       "1899    Brignolia, LawrenceLawrence Brignolia   \n",
       "1900         Caffery, JohnJohn \"Jack\" Caffery   \n",
       "1901         Caffery, JohnJohn \"Jack\" Caffery   \n",
       "\n",
       "0            Country/State or Province      Time        Notes  \n",
       "Year                                                           \n",
       "1897   United States United States(NY)  02:55:10          NaN  \n",
       "1898                Canada Canada (NS)  02:42:00          NaN  \n",
       "1899  United States United States (MA)  02:54:38          NaN  \n",
       "1900                Canada Canada (ON)  02:39:44          NaN  \n",
       "1901                Canada Canada (ON)  02:29:23  2nd victory  "
      ]
     },
     "execution_count": 315,
     "metadata": {},
     "output_type": "execute_result"
    }
   ],
   "source": [
    "male_elite_Boston=standardise_table(male_elite_Boston)\n",
    "female_elite_Boston=standardise_table(female_elite_Boston)\n",
    "male_wheel_Boston=standardise_table(male_wheel_Boston)\n",
    "female_wheel_Boston=standardise_table(female_wheel_Boston)\n",
    "\n",
    "male_elite_Boston.head()"
   ]
  },
  {
   "cell_type": "markdown",
   "metadata": {},
   "source": [
    "### Cleaning up\n",
    "\n",
    "For the Boston results, we have an odd situation where many of the names in the tables were hyperlinked so we have repetitions where the cell of the table in the html contained text both in the span and in the anchor text of the url. For this we'll use regex."
   ]
  },
  {
   "cell_type": "code",
   "execution_count": 316,
   "metadata": {},
   "outputs": [
    {
     "data": {
      "text/plain": [
       "'MacDonald, Ronald J.Ronald J. MacDonald'"
      ]
     },
     "execution_count": 316,
     "metadata": {},
     "output_type": "execute_result"
    }
   ],
   "source": [
    "male_elite_Boston['Athlete'].iloc[1]"
   ]
  },
  {
   "cell_type": "code",
   "execution_count": 317,
   "metadata": {},
   "outputs": [],
   "source": [
    "def clean_names(athlete):\n",
    "    #find all words in name starting with a capital letter followed by lower case\n",
    "    regex='[A-Z][a-z]+'\n",
    "    names=re.findall(regex,athlete)\n",
    "    #join 'Mc' and 'Mac' to second part of the name and take care of double barrels\n",
    "    exceptions=['Mc','Mac','De','Van','Cable']\n",
    "    names_amended=[]\n",
    "    for i,name in enumerate(names):\n",
    "        if name in exceptions:\n",
    "            names_amended.append(name+str(names[i+1]))\n",
    "            names.remove(names[i+1])\n",
    "        else:\n",
    "            names_amended.append(name)\n",
    "    #the full name should now be the last two words in the list\n",
    "    names_amended\n",
    "    name=' '.join(names_amended[len(names_amended)-2:])\n",
    "    return(name)"
   ]
  },
  {
   "cell_type": "code",
   "execution_count": 318,
   "metadata": {},
   "outputs": [
    {
     "data": {
      "text/html": [
       "<div>\n",
       "<style>\n",
       "    .dataframe thead tr:only-child th {\n",
       "        text-align: right;\n",
       "    }\n",
       "\n",
       "    .dataframe thead th {\n",
       "        text-align: left;\n",
       "    }\n",
       "\n",
       "    .dataframe tbody tr th {\n",
       "        vertical-align: top;\n",
       "    }\n",
       "</style>\n",
       "<table border=\"1\" class=\"dataframe\">\n",
       "  <thead>\n",
       "    <tr style=\"text-align: right;\">\n",
       "      <th></th>\n",
       "      <th>Athlete</th>\n",
       "      <th>Country/State or Province</th>\n",
       "      <th>Time</th>\n",
       "      <th>Notes</th>\n",
       "    </tr>\n",
       "    <tr>\n",
       "      <th>Year</th>\n",
       "      <th></th>\n",
       "      <th></th>\n",
       "      <th></th>\n",
       "      <th></th>\n",
       "    </tr>\n",
       "  </thead>\n",
       "  <tbody>\n",
       "    <tr>\n",
       "      <th>1897</th>\n",
       "      <td>John McDermott</td>\n",
       "      <td>United States United States(NY)</td>\n",
       "      <td>02:55:10</td>\n",
       "      <td>NaN</td>\n",
       "    </tr>\n",
       "    <tr>\n",
       "      <th>1898</th>\n",
       "      <td>Ronald MacDonald</td>\n",
       "      <td>Canada Canada (NS)</td>\n",
       "      <td>02:42:00</td>\n",
       "      <td>NaN</td>\n",
       "    </tr>\n",
       "    <tr>\n",
       "      <th>1899</th>\n",
       "      <td>Lawrence Brignolia</td>\n",
       "      <td>United States United States (MA)</td>\n",
       "      <td>02:54:38</td>\n",
       "      <td>NaN</td>\n",
       "    </tr>\n",
       "    <tr>\n",
       "      <th>1900</th>\n",
       "      <td>Jack Caffery</td>\n",
       "      <td>Canada Canada (ON)</td>\n",
       "      <td>02:39:44</td>\n",
       "      <td>NaN</td>\n",
       "    </tr>\n",
       "    <tr>\n",
       "      <th>1901</th>\n",
       "      <td>Jack Caffery</td>\n",
       "      <td>Canada Canada (ON)</td>\n",
       "      <td>02:29:23</td>\n",
       "      <td>2nd victory</td>\n",
       "    </tr>\n",
       "  </tbody>\n",
       "</table>\n",
       "</div>"
      ],
      "text/plain": [
       "0                Athlete         Country/State or Province      Time  \\\n",
       "Year                                                                   \n",
       "1897      John McDermott   United States United States(NY)  02:55:10   \n",
       "1898    Ronald MacDonald                Canada Canada (NS)  02:42:00   \n",
       "1899  Lawrence Brignolia  United States United States (MA)  02:54:38   \n",
       "1900        Jack Caffery                Canada Canada (ON)  02:39:44   \n",
       "1901        Jack Caffery                Canada Canada (ON)  02:29:23   \n",
       "\n",
       "0           Notes  \n",
       "Year               \n",
       "1897          NaN  \n",
       "1898          NaN  \n",
       "1899          NaN  \n",
       "1900          NaN  \n",
       "1901  2nd victory  "
      ]
     },
     "execution_count": 318,
     "metadata": {},
     "output_type": "execute_result"
    }
   ],
   "source": [
    "male_elite_Boston['Athlete']=male_elite_Boston['Athlete'].apply(clean_names)\n",
    "female_elite_Boston['Athlete']=female_elite_Boston['Athlete'].apply(clean_names)\n",
    "male_wheel_Boston['Athlete']=male_wheel_Boston['Athlete'].apply(clean_names)\n",
    "female_wheel_Boston['Athlete']=female_wheel_Boston['Athlete'].apply(clean_names)\n",
    "male_elite_Boston.head()"
   ]
  },
  {
   "cell_type": "markdown",
   "metadata": {},
   "source": [
    "The final cleaning step for the Boston results is to separate out the Country from the state for US and Canadian athletes."
   ]
  },
  {
   "cell_type": "code",
   "execution_count": null,
   "metadata": {
    "collapsed": true
   },
   "outputs": [],
   "source": []
  }
 ],
 "metadata": {
  "kernelspec": {
   "display_name": "Python 3",
   "language": "python",
   "name": "python3"
  },
  "language_info": {
   "codemirror_mode": {
    "name": "ipython",
    "version": 3
   },
   "file_extension": ".py",
   "mimetype": "text/x-python",
   "name": "python",
   "nbconvert_exporter": "python",
   "pygments_lexer": "ipython3",
   "version": "3.6.3"
  }
 },
 "nbformat": 4,
 "nbformat_minor": 2
}
