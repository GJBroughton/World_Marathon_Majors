{
 "cells": [
  {
   "cell_type": "markdown",
   "metadata": {},
   "source": [
    "# World Marathon Majors - Winners\n",
    "\n",
    "The world marathon majors consist of six major city marathons (https://en.wikipedia.org/wiki/World_Marathon_Majors):\n",
    "\n",
    "List of all historic winners can be found via their individual wikipedia pages:\n",
    "\n",
    "    - Tokyo (https://en.wikipedia.org/wiki/Tokyo_Marathon)\n",
    "    - Boston (https://en.wikipedia.org/wiki/List_of_winners_of_the_Boston_Marathon)\n",
    "    - London (https://en.wikipedia.org/wiki/List_of_winners_of_the_London_Marathon)\n",
    "    - Berlin (https://en.wikipedia.org/wiki/Berlin_Marathon)\n",
    "    - Chicago (https://en.wikipedia.org/wiki/List_of_winners_of_the_Chicago_Marathon)\n",
    "    - New York (https://en.wikipedia.org/wiki/List_of_winners_of_the_New_York_City_Marathon)\n",
    "    \n",
    "Using the Wikipedia API, lets see if we can collect and compile a list of winners for each race on both the male and female runners and wheelchair athletes races and process to an easy to read form."
   ]
  },
  {
   "cell_type": "code",
   "execution_count": 32,
   "metadata": {},
   "outputs": [],
   "source": [
    "import pandas as pd\n",
    "import wikipedia as wp"
   ]
  },
  {
   "cell_type": "markdown",
   "metadata": {},
   "source": [
    "### Find each page and make sure each exists"
   ]
  },
  {
   "cell_type": "code",
   "execution_count": 35,
   "metadata": {},
   "outputs": [
    {
     "name": "stdout",
     "output_type": "stream",
     "text": [
      "Tokyo Marathon\n",
      "List of winners of the Boston Marathon\n",
      "List of winners of the London Marathon\n",
      "Berlin Marathon\n",
      "List of winners of the Chicago Marathon\n",
      "List of winners of the New York City Marathon\n"
     ]
    }
   ],
   "source": [
    "Tokyo_page=wp.page('Tokyo Marathon')\n",
    "Boston_page=wp.page('List of winners of the Boston Marathon')\n",
    "London_page=wp.page('List of winners of the London Marathon')\n",
    "Berlin_page=wp.page('Berlin Marathon')\n",
    "Chicago_page=wp.page('List of winners of the Chicago Marathon')\n",
    "New_York_page=wp.page('List of winners of the New York City Marathon')\n",
    "\n",
    "pages=[Tokyo_page,Boston_page,London_page,Berlin_page,Chicago_page,New_York_page]\n",
    "\n",
    "for page in pages:\n",
    "    print(page.title)"
   ]
  },
  {
   "cell_type": "markdown",
   "metadata": {},
   "source": [
    "For each page, we'll use the pandas read_html() method to get all relevant tables.\n",
    "\n",
    "We first need to identify which tables we need by manually inspecting the wikipedia pages for each race."
   ]
  },
  {
   "cell_type": "markdown",
   "metadata": {},
   "source": [
    "## The London Marathon\n",
    "\n",
    "https://en.wikipedia.org/wiki/List_of_winners_of_the_London_Marathon"
   ]
  },
  {
   "cell_type": "code",
   "execution_count": 36,
   "metadata": {},
   "outputs": [
    {
     "data": {
      "text/plain": [
       "\"The London Marathon, one of the six World Marathon Majors, has been contested by men and women annually since 29 March 1981. Set over a largely flat course around the River Thames, the marathon is 26.2 miles (42.2 km) in length and generally regarded as a competitive and unpredictable event, and conducive to fast times.The inaugural marathon had 7,741 entrants, 6,255 of whom completed the race. The first Men's Elite Race was tied between American Dick Beardsley and Norwegian Inge Simonsen, who crossed the finish line holding hands in 2 hours, 11 minutes, 48 seconds. The first Women's Elite Race was won by Briton Joyce Smith in 2:29:57. In 1983, the first wheelchair races took place. Organized by the British Sports Association for the Disabled (BASD), 19 people competed and 17 finished. Gordon Perry of the United Kingdom won the Men's Wheelchair Race, coming in at 3:20:07, and Denise Smith, also of the UK, won the Women's Wheelchair Race in 4:29:03.Twenty athletes representing the United Kingdom have won the London Marathon a total of forty times. The most recent win by a British athlete was in the 2012 London Marathon, by David Weir in the Men's Wheelchair Race. It was his sixth win in London. Kenya has the second largest number of winning athletes. Seven Kenyan men and seven Kenyan women have been victorious a total of eighteen times, all in the able-bodied category. Eleven men, including those from the wheelchair races, have won the marathon more than once, Weir's six wins being the record. Sixteen women have been winners more than once; Tanni Grey-Thompson won the women's wheelchair race six times between 1992 and 2002.\\nCourse records for the London Marathon have been set ten times in the men's race, seven times in the women's race, fifteen times in the men's wheelchair race, and thirteen times in the women's wheelchair race. World records for marathon running have been set six times considering marks for men and women in mixed sex and women-only races. Khalid Khannouchi, representing the United States, set the men's world record in 2:05:38 in 2002. The following year, British runner Paula Radcliffe set the women's world record in 2:15:25, which also stands as the current course record in the Women's Elite Race. In 2017 Kenyan Mary Keitany ran a women-only race world record of 2:17:01.  Eliud Kipchoge of Kenya set the course record at 2:03:05 in 2016 in the Men's Elite Race. Kurt Fearnley set the Men's Wheelchair Race course record at 1:28:57 in 2009. The course record for the Women's Wheelchair Race was set by Swiss athlete Manuela Schar in 2017, with 1:39:57.\""
      ]
     },
     "execution_count": 36,
     "metadata": {},
     "output_type": "execute_result"
    }
   ],
   "source": [
    "London_page.summary"
   ]
  },
  {
   "cell_type": "markdown",
   "metadata": {},
   "source": [
    "By manually inspecting this page, we see that the results we're looking for are the first to fourth tables on the page."
   ]
  },
  {
   "cell_type": "code",
   "execution_count": 101,
   "metadata": {},
   "outputs": [],
   "source": [
    "html = wp.page(\"List of winners of the London Marathon\").html().encode(\"UTF-8\")\n",
    "male_elite_London = pd.read_html(html)[0]\n",
    "female_elite_London = pd.read_html(html)[1]\n",
    "male_wheel_London = pd.read_html(html)[2]\n",
    "female_wheel_London = pd.read_html(html)[3]"
   ]
  },
  {
   "cell_type": "code",
   "execution_count": 102,
   "metadata": {},
   "outputs": [
    {
     "data": {
      "text/html": [
       "<div>\n",
       "<style>\n",
       "    .dataframe thead tr:only-child th {\n",
       "        text-align: right;\n",
       "    }\n",
       "\n",
       "    .dataframe thead th {\n",
       "        text-align: left;\n",
       "    }\n",
       "\n",
       "    .dataframe tbody tr th {\n",
       "        vertical-align: top;\n",
       "    }\n",
       "</style>\n",
       "<table border=\"1\" class=\"dataframe\">\n",
       "  <thead>\n",
       "    <tr style=\"text-align: right;\">\n",
       "      <th></th>\n",
       "      <th>0</th>\n",
       "      <th>1</th>\n",
       "      <th>2</th>\n",
       "      <th>3</th>\n",
       "      <th>4</th>\n",
       "    </tr>\n",
       "  </thead>\n",
       "  <tbody>\n",
       "    <tr>\n",
       "      <th>0</th>\n",
       "      <td>Year</td>\n",
       "      <td>Athlete</td>\n",
       "      <td>Nationality</td>\n",
       "      <td>Time(h:m:s)</td>\n",
       "      <td>Notes</td>\n",
       "    </tr>\n",
       "    <tr>\n",
       "      <th>1</th>\n",
       "      <td>1981</td>\n",
       "      <td>Dick Beardsley (Tie)</td>\n",
       "      <td>United States</td>\n",
       "      <td>2:11:48</td>\n",
       "      <td>Course record</td>\n",
       "    </tr>\n",
       "    <tr>\n",
       "      <th>2</th>\n",
       "      <td>Inge Simonsen (Tie)</td>\n",
       "      <td>Norway</td>\n",
       "      <td>NaN</td>\n",
       "      <td>NaN</td>\n",
       "      <td>NaN</td>\n",
       "    </tr>\n",
       "    <tr>\n",
       "      <th>3</th>\n",
       "      <td>1982</td>\n",
       "      <td>Hugh Jones</td>\n",
       "      <td>United Kingdom</td>\n",
       "      <td>2:09:24</td>\n",
       "      <td>Course record</td>\n",
       "    </tr>\n",
       "    <tr>\n",
       "      <th>4</th>\n",
       "      <td>1983</td>\n",
       "      <td>Mike Gratton</td>\n",
       "      <td>United Kingdom</td>\n",
       "      <td>2:09:43</td>\n",
       "      <td>NaN</td>\n",
       "    </tr>\n",
       "  </tbody>\n",
       "</table>\n",
       "</div>"
      ],
      "text/plain": [
       "                     0                     1               2            3  \\\n",
       "0                 Year               Athlete     Nationality  Time(h:m:s)   \n",
       "1                 1981  Dick Beardsley (Tie)   United States      2:11:48   \n",
       "2  Inge Simonsen (Tie)                Norway             NaN          NaN   \n",
       "3                 1982            Hugh Jones  United Kingdom      2:09:24   \n",
       "4                 1983          Mike Gratton  United Kingdom      2:09:43   \n",
       "\n",
       "               4  \n",
       "0          Notes  \n",
       "1  Course record  \n",
       "2            NaN  \n",
       "3  Course record  \n",
       "4            NaN  "
      ]
     },
     "execution_count": 102,
     "metadata": {},
     "output_type": "execute_result"
    }
   ],
   "source": [
    "male_elite_London.head()"
   ]
  },
  {
   "cell_type": "markdown",
   "metadata": {},
   "source": [
    "### Cleaning up\n",
    "\n",
    "London is famous for having a tie in the men's race on its first edition in 1981. This is reflected in the first table taken from the wiki page so let's clean that up first. It's only one instance, so let's clean this manually."
   ]
  },
  {
   "cell_type": "code",
   "execution_count": 103,
   "metadata": {},
   "outputs": [
    {
     "data": {
      "text/html": [
       "<div>\n",
       "<style>\n",
       "    .dataframe thead tr:only-child th {\n",
       "        text-align: right;\n",
       "    }\n",
       "\n",
       "    .dataframe thead th {\n",
       "        text-align: left;\n",
       "    }\n",
       "\n",
       "    .dataframe tbody tr th {\n",
       "        vertical-align: top;\n",
       "    }\n",
       "</style>\n",
       "<table border=\"1\" class=\"dataframe\">\n",
       "  <thead>\n",
       "    <tr style=\"text-align: right;\">\n",
       "      <th></th>\n",
       "      <th>0</th>\n",
       "      <th>1</th>\n",
       "      <th>2</th>\n",
       "      <th>3</th>\n",
       "      <th>4</th>\n",
       "    </tr>\n",
       "  </thead>\n",
       "  <tbody>\n",
       "    <tr>\n",
       "      <th>0</th>\n",
       "      <td>Year</td>\n",
       "      <td>Athlete</td>\n",
       "      <td>Nationality</td>\n",
       "      <td>Time(h:m:s)</td>\n",
       "      <td>Notes</td>\n",
       "    </tr>\n",
       "    <tr>\n",
       "      <th>1</th>\n",
       "      <td>1981</td>\n",
       "      <td>Dick Beardsley and Inge Simonson (Tie)</td>\n",
       "      <td>United States and Norway</td>\n",
       "      <td>2:11:48</td>\n",
       "      <td>Course record</td>\n",
       "    </tr>\n",
       "    <tr>\n",
       "      <th>2</th>\n",
       "      <td>1982</td>\n",
       "      <td>Hugh Jones</td>\n",
       "      <td>United Kingdom</td>\n",
       "      <td>2:09:24</td>\n",
       "      <td>Course record</td>\n",
       "    </tr>\n",
       "    <tr>\n",
       "      <th>3</th>\n",
       "      <td>1983</td>\n",
       "      <td>Mike Gratton</td>\n",
       "      <td>United Kingdom</td>\n",
       "      <td>2:09:43</td>\n",
       "      <td>NaN</td>\n",
       "    </tr>\n",
       "    <tr>\n",
       "      <th>4</th>\n",
       "      <td>1984</td>\n",
       "      <td>Charlie Spedding</td>\n",
       "      <td>United Kingdom</td>\n",
       "      <td>2:09:57</td>\n",
       "      <td>NaN</td>\n",
       "    </tr>\n",
       "  </tbody>\n",
       "</table>\n",
       "</div>"
      ],
      "text/plain": [
       "      0                                       1                         2  \\\n",
       "0  Year                                 Athlete               Nationality   \n",
       "1  1981  Dick Beardsley and Inge Simonson (Tie)  United States and Norway   \n",
       "2  1982                              Hugh Jones            United Kingdom   \n",
       "3  1983                            Mike Gratton            United Kingdom   \n",
       "4  1984                        Charlie Spedding            United Kingdom   \n",
       "\n",
       "             3              4  \n",
       "0  Time(h:m:s)          Notes  \n",
       "1      2:11:48  Course record  \n",
       "2      2:09:24  Course record  \n",
       "3      2:09:43            NaN  \n",
       "4      2:09:57            NaN  "
      ]
     },
     "execution_count": 103,
     "metadata": {},
     "output_type": "execute_result"
    }
   ],
   "source": [
    "male_elite_London.iloc[1][1]='Dick Beardsley and Inge Simonson (Tie)'\n",
    "male_elite_London.iloc[1][2]='United States and Norway'\n",
    "male_elite_London=male_elite_London.reindex(male_elite_London.index.drop(2)).reset_index(drop=True)\n",
    "male_elite_London.head()"
   ]
  },
  {
   "cell_type": "markdown",
   "metadata": {},
   "source": [
    "Now that initial cleaning is done, let's standardise these tables somewhat making the year the index and change the column headings out of the first row."
   ]
  },
  {
   "cell_type": "code",
   "execution_count": 90,
   "metadata": {
    "collapsed": true
   },
   "outputs": [],
   "source": [
    "def standardise_table(df):\n",
    "    df.columns = df.iloc[0]\n",
    "    df=df.reindex(df.index.drop(0))\n",
    "    df.set_index('Year')\n",
    "    return(df)"
   ]
  },
  {
   "cell_type": "code",
   "execution_count": 109,
   "metadata": {},
   "outputs": [
    {
     "data": {
      "text/html": [
       "<div>\n",
       "<style>\n",
       "    .dataframe thead tr:only-child th {\n",
       "        text-align: right;\n",
       "    }\n",
       "\n",
       "    .dataframe thead th {\n",
       "        text-align: left;\n",
       "    }\n",
       "\n",
       "    .dataframe tbody tr th {\n",
       "        vertical-align: top;\n",
       "    }\n",
       "</style>\n",
       "<table border=\"1\" class=\"dataframe\">\n",
       "  <thead>\n",
       "    <tr style=\"text-align: right;\">\n",
       "      <th></th>\n",
       "      <th>Year</th>\n",
       "      <th>Athlete</th>\n",
       "      <th>Nationality</th>\n",
       "      <th>Time(h:m:s)</th>\n",
       "      <th>Notes</th>\n",
       "    </tr>\n",
       "  </thead>\n",
       "  <tbody>\n",
       "    <tr>\n",
       "      <th>1</th>\n",
       "      <td>1981</td>\n",
       "      <td>Dick Beardsley and Inge Simonson (Tie)</td>\n",
       "      <td>United States and Norway</td>\n",
       "      <td>2:11:48</td>\n",
       "      <td>Course record</td>\n",
       "    </tr>\n",
       "    <tr>\n",
       "      <th>2</th>\n",
       "      <td>1982</td>\n",
       "      <td>Hugh Jones</td>\n",
       "      <td>United Kingdom</td>\n",
       "      <td>2:09:24</td>\n",
       "      <td>Course record</td>\n",
       "    </tr>\n",
       "    <tr>\n",
       "      <th>3</th>\n",
       "      <td>1983</td>\n",
       "      <td>Mike Gratton</td>\n",
       "      <td>United Kingdom</td>\n",
       "      <td>2:09:43</td>\n",
       "      <td>NaN</td>\n",
       "    </tr>\n",
       "    <tr>\n",
       "      <th>4</th>\n",
       "      <td>1984</td>\n",
       "      <td>Charlie Spedding</td>\n",
       "      <td>United Kingdom</td>\n",
       "      <td>2:09:57</td>\n",
       "      <td>NaN</td>\n",
       "    </tr>\n",
       "    <tr>\n",
       "      <th>5</th>\n",
       "      <td>1985</td>\n",
       "      <td>Steve Jones</td>\n",
       "      <td>United Kingdom</td>\n",
       "      <td>2:08:16</td>\n",
       "      <td>Course record</td>\n",
       "    </tr>\n",
       "  </tbody>\n",
       "</table>\n",
       "</div>"
      ],
      "text/plain": [
       "0  Year                                 Athlete               Nationality  \\\n",
       "1  1981  Dick Beardsley and Inge Simonson (Tie)  United States and Norway   \n",
       "2  1982                              Hugh Jones            United Kingdom   \n",
       "3  1983                            Mike Gratton            United Kingdom   \n",
       "4  1984                        Charlie Spedding            United Kingdom   \n",
       "5  1985                             Steve Jones            United Kingdom   \n",
       "\n",
       "0 Time(h:m:s)          Notes  \n",
       "1     2:11:48  Course record  \n",
       "2     2:09:24  Course record  \n",
       "3     2:09:43            NaN  \n",
       "4     2:09:57            NaN  \n",
       "5     2:08:16  Course record  "
      ]
     },
     "execution_count": 109,
     "metadata": {},
     "output_type": "execute_result"
    }
   ],
   "source": [
    "male_elite_London=standardise_table(male_elite_London)\n",
    "female_elite_London=standardise_table(female_elite_London)\n",
    "male_wheel_London=standardise_table(male_wheel_London)\n",
    "female_wheel_London=standardise_table(female_wheel_London)\n",
    "\n",
    "male_elite_London.head()"
   ]
  },
  {
   "cell_type": "code",
   "execution_count": null,
   "metadata": {
    "collapsed": true
   },
   "outputs": [],
   "source": []
  }
 ],
 "metadata": {
  "kernelspec": {
   "display_name": "Python 3",
   "language": "python",
   "name": "python3"
  },
  "language_info": {
   "codemirror_mode": {
    "name": "ipython",
    "version": 3
   },
   "file_extension": ".py",
   "mimetype": "text/x-python",
   "name": "python",
   "nbconvert_exporter": "python",
   "pygments_lexer": "ipython3",
   "version": "3.6.3"
  }
 },
 "nbformat": 4,
 "nbformat_minor": 2
}
